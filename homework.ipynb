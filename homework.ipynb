{
 "cells": [
  {
   "cell_type": "markdown",
   "id": "1083b5ee",
   "metadata": {},
   "source": [
    "### 1. Download data"
   ]
  },
  {
   "cell_type": "code",
   "execution_count": null,
   "id": "fa44d4f6",
   "metadata": {},
   "outputs": [],
   "source": [
    "!wget https://opendata.rijdendetreinen.nl/public/tariff-distances/tariff-distances-2022-01.csv -O ./data_hw/distances-2022.csv\n",
    "\n",
    "!wget https://opendata.rijdendetreinen.nl/public/stations/stations-2023-09-nl.csv -O ./data_hw/stations-2023.csv\n",
    "!wget -r -l1 -A \"*.csv\" -nd -P ./data_hw/disruptions/ https://opendata.rijdendetreinen.nl/public/disruptions/ ./data_hw/disruptions/\n",
    "\n",
    "!wget https://opendata.rijdendetreinen.nl/public/services/services-2023.csv.gz -O ./data_hw/services-2023.csv.gz\n",
    "!gunzip ./data_hw/services-2023.csv.gz\n",
    "!wget https://opendata.rijdendetreinen.nl/public/services/services-2022.csv.gz -O ./data_hw/services-2022.csv.gz\n",
    "!gunzip ./data_hw/services-2022.csv.gz\n",
    "!wget https://opendata.rijdendetreinen.nl/public/services/services-2021.csv.gz -O ./data_hw/services-2021.csv.gz\n",
    "!gunzip ./data_hw/services-2021.csv.gz\n",
    "!wget https://opendata.rijdendetreinen.nl/public/services/services-2020.csv.gz -O ./data_hw/services-2020.csv.gz\n",
    "!gunzip ./data_hw/services-2020.csv.gz\n",
    "!wget https://opendata.rijdendetreinen.nl/public/services/services-2019.csv.gz -O ./data_hw/services-2019.csv.gz\n",
    "!gunzip ./data_hw/services-2019.csv.gz"
   ]
  },
  {
   "cell_type": "markdown",
   "id": "641f64d8",
   "metadata": {},
   "source": [
    "### * reset tables if you want to do so"
   ]
  },
  {
   "cell_type": "code",
   "execution_count": 11,
   "id": "2db45fbd",
   "metadata": {},
   "outputs": [],
   "source": [
    "import duckdb\n",
    "\n",
    "!rm -rf data_hw/db/railway.duckdb\n",
    "\n",
    "db = duckdb.connect(database=':memory:')"
   ]
  },
  {
   "cell_type": "markdown",
   "id": "af165dac",
   "metadata": {},
   "source": [
    "### 2. Stations table"
   ]
  },
  {
   "cell_type": "code",
   "execution_count": 12,
   "id": "7b97aff3",
   "metadata": {},
   "outputs": [],
   "source": [
    "import duckdb\n",
    "db = duckdb.connect('data_hw/db/railway.duckdb')\n",
    "db.sql(\"\"\"\n",
    "    CREATE TABLE stations AS\n",
    "    SELECT *\n",
    "    FROM './data_hw/stations-2023.csv'\n",
    "\"\"\")"
   ]
  },
  {
   "cell_type": "code",
   "execution_count": 18,
   "id": "1da3e9f1",
   "metadata": {},
   "outputs": [
    {
     "data": {
      "text/plain": [
       "┌──────────────┐\n",
       "│ count_star() │\n",
       "│    int64     │\n",
       "├──────────────┤\n",
       "│          397 │\n",
       "└──────────────┘"
      ]
     },
     "execution_count": 18,
     "metadata": {},
     "output_type": "execute_result"
    }
   ],
   "source": [
    "db.sql(\"\"\"\n",
    "    SELECT COUNT(*) \n",
    "    FROM stations\n",
    "\"\"\")"
   ]
  },
  {
   "cell_type": "markdown",
   "id": "2316807f",
   "metadata": {},
   "source": [
    "### 3. Distances and distances long"
   ]
  },
  {
   "cell_type": "code",
   "execution_count": null,
   "id": "4dc14d5a",
   "metadata": {},
   "outputs": [
    {
     "ename": "CatalogException",
     "evalue": "Catalog Error: Table with name \"distances\" already exists!",
     "output_type": "error",
     "traceback": [
      "\u001b[31m---------------------------------------------------------------------------\u001b[39m",
      "\u001b[31mCatalogException\u001b[39m                          Traceback (most recent call last)",
      "\u001b[36mCell\u001b[39m\u001b[36m \u001b[39m\u001b[32mIn[19]\u001b[39m\u001b[32m, line 1\u001b[39m\n\u001b[32m----> \u001b[39m\u001b[32m1\u001b[39m \u001b[43mdb\u001b[49m\u001b[43m.\u001b[49m\u001b[43msql\u001b[49m\u001b[43m(\u001b[49m\u001b[33;43m\"\"\"\u001b[39;49m\n\u001b[32m      2\u001b[39m \u001b[33;43m    CREATE TABLE distances AS\u001b[39;49m\n\u001b[32m      3\u001b[39m \u001b[33;43m    SELECT *\u001b[39;49m\n\u001b[32m      4\u001b[39m \u001b[33;43m    FROM READ_CSV(\u001b[39;49m\u001b[33;43m'\u001b[39;49m\u001b[33;43mdata_hw/distances-2022.csv\u001b[39;49m\u001b[33;43m'\u001b[39;49m\u001b[33;43m,\u001b[39;49m\n\u001b[32m      5\u001b[39m \u001b[33;43m    nullstr=\u001b[39;49m\u001b[33;43m'\u001b[39;49m\u001b[33;43mXXX\u001b[39;49m\u001b[33;43m'\u001b[39;49m\n\u001b[32m      6\u001b[39m \u001b[33;43m    )\u001b[39;49m\n\u001b[32m      7\u001b[39m \u001b[33;43m\"\"\"\u001b[39;49m\u001b[43m)\u001b[49m\n",
      "\u001b[31mCatalogException\u001b[39m: Catalog Error: Table with name \"distances\" already exists!"
     ]
    }
   ],
   "source": [
    "db.sql(\"\"\"\n",
    "db_distances.execute(\"\"\"\n",
    "    CREATE TABLE distances AS\n",
    "    SELECT *\n",
    "    FROM READ_CSV('data_hw/distances-2022.csv',\n",
    "    nullstr='XXX'\n",
    "    )\n",
    "\"\"\")"
   ]
  },
  {
   "cell_type": "code",
   "execution_count": 14,
   "id": "de87f045",
   "metadata": {},
   "outputs": [],
   "source": [
    "db.sql(\"\"\"\n",
    "    CREATE TABLE distances_long AS\n",
    "    UNPIVOT distances\n",
    "    ON COLUMNS (* EXCLUDE station)\n",
    "    INTO NAME other_station VALUE distance;\n",
    "\"\"\")"
   ]
  },
  {
   "cell_type": "code",
   "execution_count": 15,
   "id": "49207535",
   "metadata": {},
   "outputs": [
    {
     "data": {
      "text/plain": [
       "┌─────────┬───────────────┬──────────┐\n",
       "│ Station │ other_station │ distance │\n",
       "│ varchar │    varchar    │  int64   │\n",
       "├─────────┼───────────────┼──────────┤\n",
       "│ AC      │ AH            │       82 │\n",
       "│ AC      │ AHP           │       83 │\n",
       "│ AC      │ AHPR          │       85 │\n",
       "│ AC      │ AHZ           │       90 │\n",
       "│ AC      │ AKL           │       71 │\n",
       "└─────────┴───────────────┴──────────┘"
      ]
     },
     "execution_count": 15,
     "metadata": {},
     "output_type": "execute_result"
    }
   ],
   "source": [
    "db.sql(\"\"\"\n",
    "    SELECT * FROM distances_LONG LIMIT 5\n",
    "\"\"\")"
   ]
  },
  {
   "cell_type": "markdown",
   "id": "73b8284c",
   "metadata": {},
   "source": [
    "### 4. Distruptions table"
   ]
  },
  {
   "cell_type": "code",
   "execution_count": 20,
   "id": "a82ee6ca",
   "metadata": {},
   "outputs": [
    {
     "ename": "CatalogException",
     "evalue": "Catalog Error: Table with name \"disruptions\" already exists!",
     "output_type": "error",
     "traceback": [
      "\u001b[31m---------------------------------------------------------------------------\u001b[39m",
      "\u001b[31mCatalogException\u001b[39m                          Traceback (most recent call last)",
      "\u001b[36mCell\u001b[39m\u001b[36m \u001b[39m\u001b[32mIn[20]\u001b[39m\u001b[32m, line 1\u001b[39m\n\u001b[32m----> \u001b[39m\u001b[32m1\u001b[39m \u001b[43mdb\u001b[49m\u001b[43m.\u001b[49m\u001b[43msql\u001b[49m\u001b[43m(\u001b[49m\u001b[33;43m\"\"\"\u001b[39;49m\n\u001b[32m      2\u001b[39m \u001b[33;43m       CREATE TABLE disruptions AS\u001b[39;49m\n\u001b[32m      3\u001b[39m \u001b[33;43m       SELECT *\u001b[39;49m\n\u001b[32m      4\u001b[39m \u001b[33;43m       FROM READ_CSV_AUTO(\u001b[39;49m\u001b[33;43m'\u001b[39;49m\u001b[33;43mdata_hw/disruptions/*.csv\u001b[39;49m\u001b[33;43m'\u001b[39;49m\u001b[33;43m)\u001b[39;49m\n\u001b[32m      5\u001b[39m \u001b[33;43m\"\"\"\u001b[39;49m\u001b[43m)\u001b[49m\n",
      "\u001b[31mCatalogException\u001b[39m: Catalog Error: Table with name \"disruptions\" already exists!"
     ]
    }
   ],
   "source": [
    "db.sql(\"\"\"\n",
    "       CREATE TABLE disruptions AS\n",
    "       SELECT *\n",
    "       FROM READ_CSV_AUTO('data_hw/disruptions/*.csv')\n",
    "\"\"\")"
   ]
  },
  {
   "cell_type": "code",
   "execution_count": 21,
   "id": "a31a6170",
   "metadata": {},
   "outputs": [
    {
     "data": {
      "text/plain": [
       "┌──────────────┐\n",
       "│ count_star() │\n",
       "│    int64     │\n",
       "├──────────────┤\n",
       "│        55864 │\n",
       "└──────────────┘"
      ]
     },
     "execution_count": 21,
     "metadata": {},
     "output_type": "execute_result"
    }
   ],
   "source": [
    "db.sql(\"\"\"\n",
    "    SELECT count(*) FROM disruptions\n",
    "\"\"\")"
   ]
  },
  {
   "cell_type": "code",
   "execution_count": 22,
   "id": "5910b0ee",
   "metadata": {},
   "outputs": [
    {
     "data": {
      "application/vnd.jupyter.widget-view+json": {
       "model_id": "aa5466abab494a718b94a6996a28f644",
       "version_major": 2,
       "version_minor": 0
      },
      "text/plain": [
       "FloatProgress(value=0.0, layout=Layout(width='auto'), style=ProgressStyle(bar_color='black'))"
      ]
     },
     "metadata": {},
     "output_type": "display_data"
    }
   ],
   "source": [
    "db.sql(\"\"\"\n",
    "    COPY(\n",
    "       SELECT * FROM read_csv_auto('data_hw/services-*.csv'))\n",
    "       TO './data_hw/services.parquet' (FORMAT PARQUET);\n",
    "\"\"\")"
   ]
  },
  {
   "cell_type": "code",
   "execution_count": 23,
   "id": "3a4d5df1",
   "metadata": {},
   "outputs": [
    {
     "data": {
      "application/vnd.jupyter.widget-view+json": {
       "model_id": "3a9abe1381d14a919d4f9fa6be9cd121",
       "version_major": 2,
       "version_minor": 0
      },
      "text/plain": [
       "FloatProgress(value=0.0, layout=Layout(width='auto'), style=ProgressStyle(bar_color='black'))"
      ]
     },
     "metadata": {},
     "output_type": "display_data"
    }
   ],
   "source": [
    "db.sql(\"\"\"\n",
    "       CREATE TABLE services AS\n",
    "       SELECT * FROM read_parquet('./data_hw/services.parquet')\n",
    "\"\"\")"
   ]
  },
  {
   "cell_type": "code",
   "execution_count": 26,
   "id": "4aac3d3f",
   "metadata": {},
   "outputs": [
    {
     "data": {
      "text/plain": [
       "┌──────────────┐\n",
       "│ count_star() │\n",
       "│    int64     │\n",
       "├──────────────┤\n",
       "│    108092099 │\n",
       "└──────────────┘"
      ]
     },
     "execution_count": 26,
     "metadata": {},
     "output_type": "execute_result"
    }
   ],
   "source": [
    "db.sql(\"\"\"\n",
    "       SELECT COUNT(*) FROM services\n",
    "\"\"\")"
   ]
  },
  {
   "cell_type": "markdown",
   "id": "e73f0077",
   "metadata": {},
   "source": [
    "### 7. Analytical queries\n",
    "#### 7.1. Amsterdam total departures"
   ]
  },
  {
   "cell_type": "code",
   "execution_count": 27,
   "id": "d8398b63",
   "metadata": {},
   "outputs": [
    {
     "data": {
      "text/plain": [
       "┌──────────────────────┐\n",
       "│ ams_total_departures │\n",
       "│        int64         │\n",
       "├──────────────────────┤\n",
       "│              1400872 │\n",
       "└──────────────────────┘"
      ]
     },
     "execution_count": 27,
     "metadata": {},
     "output_type": "execute_result"
    }
   ],
   "source": [
    "db.sql(\"\"\"\n",
    "    SELECT COUNT(*) AS ams_total_departures\n",
    "    FROM services\n",
    "    WHERE \"Stop:Station name\" = 'Amsterdam Centraal'\n",
    "      AND \"Stop:Departure time\" IS NOT NULL;\n",
    "\"\"\")"
   ]
  },
  {
   "cell_type": "markdown",
   "id": "74f8ccba",
   "metadata": {},
   "source": [
    "#### 7.2. Avg delay per service type"
   ]
  },
  {
   "cell_type": "code",
   "execution_count": 28,
   "id": "a19361d5",
   "metadata": {},
   "outputs": [
    {
     "data": {
      "text/plain": [
       "┌──────────────────────┬────────────────────┐\n",
       "│     service_type     │ avg_arrival_delay  │\n",
       "│       varchar        │       double       │\n",
       "├──────────────────────┼────────────────────┤\n",
       "│ Alpen Express        │  31.84254143646409 │\n",
       "│ Krokus Express       │ 18.304347826086957 │\n",
       "│ European Sleeper     │  9.844229217110573 │\n",
       "│ Nightjet             │   8.98285040323866 │\n",
       "│ Eurostar             │  5.654954782656212 │\n",
       "│ Thalys               │ 5.3961896909446025 │\n",
       "│ ICE International    │  4.954097742589189 │\n",
       "│ Int. Trein           │   4.95267696009625 │\n",
       "│ Nachttrein           │  4.725949878738884 │\n",
       "│ Stoomtrein           │ 3.1575757575757577 │\n",
       "│     ·                │                 ·  │\n",
       "│     ·                │                 ·  │\n",
       "│     ·                │                 ·  │\n",
       "│ Tram ipv trein       │                0.0 │\n",
       "│ Stopbus ipv trein    │                0.0 │\n",
       "│ stoptrein            │                0.0 │\n",
       "│ Metro i.p.v. trein   │                0.0 │\n",
       "│ Niet instappen       │                0.0 │\n",
       "│ Snelbus i.p.v. trein │                0.0 │\n",
       "│ Metro ipv trein      │                0.0 │\n",
       "│ Bus                  │                0.0 │\n",
       "│ Metro                │                0.0 │\n",
       "│ Tram i.p.v. trein    │                0.0 │\n",
       "├──────────────────────┴────────────────────┤\n",
       "│ 33 rows (20 shown)              2 columns │\n",
       "└───────────────────────────────────────────┘"
      ]
     },
     "execution_count": 28,
     "metadata": {},
     "output_type": "execute_result"
    }
   ],
   "source": [
    "db.sql(\"\"\"\n",
    "SELECT \n",
    "    \"Service:Type\" AS service_type,\n",
    "    AVG(\"Stop:Arrival delay\") AS avg_arrival_delay\n",
    "FROM services\n",
    "WHERE \"Stop:Arrival delay\" IS NOT NULL\n",
    "GROUP BY service_type\n",
    "ORDER BY avg_arrival_delay DESC;\n",
    "\"\"\")"
   ]
  },
  {
   "cell_type": "markdown",
   "id": "1e247649",
   "metadata": {},
   "source": [
    "#### 7.3. Most common delay cause by year"
   ]
  },
  {
   "cell_type": "code",
   "execution_count": 29,
   "id": "cacea008",
   "metadata": {},
   "outputs": [
    {
     "data": {
      "text/plain": [
       "┌───────┬───────────────────┐\n",
       "│ year  │ most_common_cause │\n",
       "│ int64 │      varchar      │\n",
       "├───────┼───────────────────┤\n",
       "│  2011 │ broken down train │\n",
       "│  2012 │ points failure    │\n",
       "│  2013 │ points failure    │\n",
       "│  2014 │ broken down train │\n",
       "│  2015 │ broken down train │\n",
       "│  2016 │ broken down train │\n",
       "│  2017 │ broken down train │\n",
       "│  2018 │ broken down train │\n",
       "│  2019 │ broken down train │\n",
       "│  2020 │ broken down train │\n",
       "│  2021 │ broken down train │\n",
       "│  2022 │ broken down train │\n",
       "│  2023 │ broken down train │\n",
       "│  2024 │ broken down train │\n",
       "├───────┴───────────────────┤\n",
       "│ 14 rows         2 columns │\n",
       "└───────────────────────────┘"
      ]
     },
     "execution_count": 29,
     "metadata": {},
     "output_type": "execute_result"
    }
   ],
   "source": [
    "db.sql(\"\"\"\n",
    "    SELECT \n",
    "    EXTRACT(YEAR FROM \"start_time\") AS year,\n",
    "    mode(\"cause_en\") AS most_common_cause\n",
    "FROM disruptions\n",
    "GROUP BY year\n",
    "ORDER BY year;\n",
    "\"\"\")"
   ]
  },
  {
   "cell_type": "markdown",
   "id": "57beb89c",
   "metadata": {},
   "source": [
    "#### 7.4. How many trains departed overall from AMS"
   ]
  },
  {
   "cell_type": "code",
   "execution_count": 30,
   "id": "494a7b2b",
   "metadata": {},
   "outputs": [
    {
     "data": {
      "text/plain": [
       "┌──────────────────┐\n",
       "│ amsterdam_starts │\n",
       "│      int64       │\n",
       "├──────────────────┤\n",
       "│           914772 │\n",
       "└──────────────────┘"
      ]
     },
     "execution_count": 30,
     "metadata": {},
     "output_type": "execute_result"
    }
   ],
   "source": [
    "db.sql(\"\"\"\n",
    "SELECT COUNT(DISTINCT \"Service:RDT-ID\") AS amsterdam_starts\n",
    "FROM services\n",
    "WHERE \"Stop:Arrival time\" IS NULL\n",
    "  AND \"Stop:Station name\" ILIKE 'Amsterdam%';\n",
    "\"\"\")"
   ]
  },
  {
   "cell_type": "markdown",
   "id": "a2c49b16",
   "metadata": {},
   "source": [
    "#### 7.5. Percentage of trains going outside Netherlands\n",
    "\n",
    "Remark: I've checked stations-2023.csv manually and it seems that there no stations outside NL(also confirmed by queries)"
   ]
  },
  {
   "cell_type": "code",
   "execution_count": 31,
   "id": "83119693",
   "metadata": {},
   "outputs": [
    {
     "data": {
      "text/plain": [
       "┌───────┬─────────┬───────┬────────────┬─────────────┬───────────┬─────────┬─────────┬─────────┬─────────┬─────────┐\n",
       "│  id   │  code   │  uic  │ name_short │ name_medium │ name_long │  slug   │ country │  type   │ geo_lat │ geo_lng │\n",
       "│ int64 │ varchar │ int64 │  varchar   │   varchar   │  varchar  │ varchar │ varchar │ varchar │ double  │ double  │\n",
       "├───────┴─────────┴───────┴────────────┴─────────────┴───────────┴─────────┴─────────┴─────────┴─────────┴─────────┤\n",
       "│                                                      0 rows                                                      │\n",
       "└──────────────────────────────────────────────────────────────────────────────────────────────────────────────────┘"
      ]
     },
     "execution_count": 31,
     "metadata": {},
     "output_type": "execute_result"
    }
   ],
   "source": [
    "db.sql(\"\"\"\n",
    "SELECT  * FROM stations where country <>'NL'\n",
    "\"\"\")"
   ]
  },
  {
   "cell_type": "code",
   "execution_count": 32,
   "id": "e4265cfa",
   "metadata": {},
   "outputs": [
    {
     "data": {
      "text/plain": [
       "┌─────────────────────┐\n",
       "│ fraction_outside_nl │\n",
       "│       double        │\n",
       "├─────────────────────┤\n",
       "│                 0.0 │\n",
       "└─────────────────────┘"
      ]
     },
     "execution_count": 32,
     "metadata": {},
     "output_type": "execute_result"
    }
   ],
   "source": [
    "db.sql(\"\"\"\n",
    "    WITH final_stops AS (\n",
    "    SELECT DISTINCT \"Service:RDT-ID\", \"Country\"\n",
    "    FROM services\n",
    "    INNER JOIN stations ON (\"Stop:Station code\" = \"code\")\n",
    "    WHERE \"Stop:Departure time\" IS NULL\n",
    ")\n",
    "SELECT \n",
    "    ROUND(\n",
    "        SUM(CASE WHEN \"Country\" <> 'NL' THEN 1 ELSE 0 END) * 1.0 / COUNT(*),\n",
    "        3\n",
    "    ) AS fraction_outside_nl\n",
    "FROM final_stops;\n",
    "\"\"\")"
   ]
  },
  {
   "cell_type": "markdown",
   "id": "f3a57ffd",
   "metadata": {},
   "source": [
    "#### 7.6. Max distance between Netherland's stations"
   ]
  },
  {
   "cell_type": "code",
   "execution_count": 33,
   "id": "380ebcd0",
   "metadata": {},
   "outputs": [
    {
     "data": {
      "text/plain": [
       "┌─────────────────┐\n",
       "│ max_distance_nl │\n",
       "│      int64      │\n",
       "├─────────────────┤\n",
       "│             450 │\n",
       "└─────────────────┘"
      ]
     },
     "execution_count": 33,
     "metadata": {},
     "output_type": "execute_result"
    }
   ],
   "source": [
    "db.sql(\"\"\"\n",
    "       SELECT MAX(distance) AS max_distance_nl\n",
    "        FROM distances_long\n",
    "        JOIN stations ON (other_station = code)\n",
    "        WHERE country ='NL'\n",
    "\"\"\")"
   ]
  },
  {
   "cell_type": "markdown",
   "id": "3d24a724",
   "metadata": {},
   "source": [
    "#### 7.7. Avg. delay by service operator - bar plot\n",
    "\n",
    "Remark - removed operators with Avg. delay = 0"
   ]
  },
  {
   "cell_type": "code",
   "execution_count": 34,
   "id": "d2135a72",
   "metadata": {},
   "outputs": [
    {
     "data": {
      "text/plain": [
       "<Axes: title={'center': 'Average Arrival Delay by Operator(Ommited operators without delay)'}, xlabel='Operator', ylabel='Average Arrival Delay (minutes)'>"
      ]
     },
     "execution_count": 34,
     "metadata": {},
     "output_type": "execute_result"
    },
    {
     "data": {
      "image/png": "[encoded data removed]",
      "text/plain": [
       "<Figure size 640x480 with 1 Axes>"
      ]
     },
     "metadata": {},
     "output_type": "display_data"
    }
   ],
   "source": [
    "df = db.sql(\"\"\"\n",
    "            SELECT \n",
    "    \"Service:Company\" AS operator,\n",
    "    AVG(\"Stop:Arrival delay\") AS avg_arrival_delay\n",
    "FROM services\n",
    "WHERE \"Stop:Arrival delay\" IS NOT NULL\n",
    "GROUP BY operator\n",
    "ORDER BY avg_arrival_delay DESC;\n",
    "\"\"\").df()\n",
    "\n",
    "df = df[df['avg_arrival_delay']>0]\n",
    "df.plot.bar(x='operator', y='avg_arrival_delay', title='Average Arrival Delay by Operator(Ommited operators without delay)', xlabel='Operator', ylabel='Average Arrival Delay (minutes)')"
   ]
  },
  {
   "cell_type": "markdown",
   "id": "fdd654dc",
   "metadata": {},
   "source": [
    "#### 7.8. Num of distraptions per year - line plot"
   ]
  },
  {
   "cell_type": "code",
   "execution_count": 35,
   "id": "105ba1f5",
   "metadata": {},
   "outputs": [
    {
     "data": {
      "text/plain": [
       "<Axes: title={'center': 'Number of Disruptions per Year'}, xlabel='Year', ylabel='Number of Disruptions'>"
      ]
     },
     "execution_count": 35,
     "metadata": {},
     "output_type": "execute_result"
    },
    {
     "data": {
      "image/png": "[encoded data removed]",
      "text/plain": [
       "<Figure size 640x480 with 1 Axes>"
      ]
     },
     "metadata": {},
     "output_type": "display_data"
    }
   ],
   "source": [
    "df = db.sql(\"\"\"\n",
    "    SELECT EXTRACT(YEAR FROM \"start_time\") AS year,\n",
    "           COUNT(*) AS disruptions_count\n",
    "    FROM disruptions\n",
    "    GROUP BY year\n",
    "    ORDER BY year\n",
    "\"\"\").df()\n",
    "\n",
    "df.plot.line(x='year', y='disruptions_count', title='Number of Disruptions per Year', \n",
    "             xlabel='Year', ylabel='Number of Disruptions', marker='o')"
   ]
  },
  {
   "cell_type": "markdown",
   "id": "b0711179",
   "metadata": {},
   "source": [
    "#### 7.9. - Fraction of completely cancelled services per year - line plot"
   ]
  },
  {
   "cell_type": "code",
   "execution_count": 36,
   "id": "4f9d2f0e",
   "metadata": {},
   "outputs": [
    {
     "data": {
      "text/plain": [
       "<Axes: title={'center': 'Fraction of Completely Cancelled Services per Year'}, xlabel='Year', ylabel='Fraction of Cancelled Services'>"
      ]
     },
     "execution_count": 36,
     "metadata": {},
     "output_type": "execute_result"
    },
    {
     "data": {
      "image/png": "[encoded data removed]",
      "text/plain": [
       "<Figure size 640x480 with 1 Axes>"
      ]
     },
     "metadata": {},
     "output_type": "display_data"
    }
   ],
   "source": [
    "df = db.sql(\"\"\"\n",
    "SELECT \n",
    "    EXTRACT(YEAR FROM \"Service:Date\") AS year,\n",
    "    AVG(CASE WHEN \"Service:Completely cancelled\" THEN 1.0 ELSE 0.0 END) AS cancelled_fraction\n",
    "FROM services\n",
    "GROUP BY year\n",
    "ORDER BY year;\n",
    "\"\"\").df()\n",
    "\n",
    "df.plot.line(x='year', y='cancelled_fraction', title='Fraction of Completely Cancelled Services per Year',\n",
    "                xlabel='Year', ylabel='Fraction of Cancelled Services', marker='o')"
   ]
  },
  {
   "cell_type": "markdown",
   "id": "3065217a",
   "metadata": {},
   "source": [
    "### 8. Service connections(at least try)"
   ]
  },
  {
   "cell_type": "code",
   "execution_count": null,
   "id": "87a6fbc6",
   "metadata": {},
   "outputs": [
    {
     "data": {
      "application/vnd.jupyter.widget-view+json": {
       "model_id": "a783d57053034dfd877f34289e28c7cb",
       "version_major": 2,
       "version_minor": 0
      },
      "text/plain": [
       "FloatProgress(value=0.0, layout=Layout(width='auto'), style=ProgressStyle(bar_color='black'))"
      ]
     },
     "metadata": {},
     "output_type": "display_data"
    }
   ],
   "source": [
    "db.sql(\"\"\"\n",
    "       CREATE TABLE station_connections AS\n",
    "WITH station_pairs AS (\n",
    "    SELECT\n",
    "        \"Service:RDT-ID\" AS service_id,\n",
    "        \"Stop:Station code\" AS start_station_code,\n",
    "        LEAD(\"Stop:Station code\") OVER (\n",
    "            PARTITION BY \"Service:RDT-ID\"\n",
    "            ORDER BY \"Stop:Departure time\"\n",
    "        ) AS end_station_code\n",
    "    FROM services\n",
    "    WHERE \"Stop:Departure time\" IS NOT NULL\n",
    "),\n",
    "deduplicated_pairs AS (\n",
    "    SELECT DISTINCT\n",
    "        service_id,\n",
    "        CASE WHEN start_station_code < end_station_code THEN start_station_code ELSE end_station_code END AS start_station_code,\n",
    "        CASE WHEN start_station_code < end_station_code THEN end_station_code ELSE start_station_code END AS end_station_code\n",
    "    FROM station_pairs\n",
    "    WHERE end_station_code IS NOT NULL\n",
    ")\n",
    "SELECT \n",
    "    p.service_id,\n",
    "    p.start_station_code,\n",
    "    p.end_station_code,\n",
    "    d.distance\n",
    "FROM deduplicated_pairs p\n",
    "JOIN distances_long d\n",
    "  ON (\n",
    "      (p.start_station_code = d.Station AND p.end_station_code = d.other_station)\n",
    "      ORjyu766666666666666666666\n",
    "      (p.start_station_code = d.other_station AND p.end_station_code = d.Station)\n",
    "  );\n",
    "\n",
    "       \"\"\")"
   ]
  }
 ],
 "metadata": {
  "kernelspec": {
   "display_name": "mlops-course-agh-lab-02",
   "language": "python",
   "name": "python3"
  },
  "language_info": {
   "codemirror_mode": {
    "name": "ipython",
    "version": 3
   },
   "file_extension": ".py",
   "mimetype": "text/x-python",
   "name": "python",
   "nbconvert_exporter": "python",
   "pygments_lexer": "ipython3",
   "version": "3.11.14"
  }
 },
 "nbformat": 4,
 "nbformat_minor": 5
}
